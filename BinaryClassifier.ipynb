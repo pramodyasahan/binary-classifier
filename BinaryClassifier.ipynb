{
 "cells": [
  {
   "cell_type": "code",
   "execution_count": null,
   "id": "5780d287-a414-4db4-8e4e-1af084895f76",
   "metadata": {},
   "outputs": [],
   "source": [
    "import numpy as np\n",
    "import pandas as pd\n",
    "from sklearn.preprocessing import OneHotEncoder, StandardScaler\n",
    "from sklearn.compose import ColumnTransformer\n",
    "from sklearn.pipeline import Pipeline\n",
    "from sklearn.svm import SVC\n",
    "from sklearn.model_selection import GridSearchCV"
   ]
  },
  {
   "cell_type": "code",
   "execution_count": null,
   "id": "6d068a9b-598f-44ee-a541-93cd90b8804c",
   "metadata": {},
   "outputs": [],
   "source": [
    "training_dataset = pd.read_csv('train 2.csv')\n",
    "testing_dataset = pd.read_csv('test 2.csv')"
   ]
  },
  {
   "cell_type": "code",
   "execution_count": null,
   "id": "90412695-ea39-41d7-b647-a2a0cc91fcb7",
   "metadata": {},
   "outputs": [],
   "source": [
    "training_dataset.head()"
   ]
  },
  {
   "cell_type": "code",
   "execution_count": null,
   "id": "0ac309f0-fe51-4d2c-bf01-11d87cad9231",
   "metadata": {},
   "outputs": [],
   "source": [
    "testing_dataset.head()"
   ]
  },
  {
   "cell_type": "code",
   "execution_count": null,
   "id": "333df5cb-3abe-44bd-90ed-3ce40268dc40",
   "metadata": {},
   "outputs": [],
   "source": [
    "X_train = training_dataset.drop('id', axis=1)\n",
    "X_train = X_train.drop('Exited', axis=1)\n",
    "X_train = X_train.drop('CustomerId', axis=1)\n",
    "X_train = X_train.drop('Surname', axis=1)\n",
    "y_train = training_dataset['Exited']\n",
    "\n",
    "X_test = testing_dataset.drop('id', axis=1)\n",
    "X_test = X_test.drop('CustomerId', axis=1)\n",
    "X_test = X_test.drop('Surname', axis=1)\n",
    "label = testing_dataset.iloc[:, 0]"
   ]
  },
  {
   "cell_type": "code",
   "execution_count": null,
   "id": "49911be4-fd07-4fec-aaf7-3750c4f41bff",
   "metadata": {},
   "outputs": [],
   "source": [
    "y_train"
   ]
  },
  {
   "cell_type": "code",
   "execution_count": null,
   "id": "aedafec0-1ea6-4cf0-bd08-d4ebae3d19bb",
   "metadata": {},
   "outputs": [],
   "source": [
    "X_test.head()"
   ]
  },
  {
   "cell_type": "code",
   "execution_count": null,
   "id": "08894b2c-8197-440a-bd86-27d1a065b198",
   "metadata": {},
   "outputs": [],
   "source": [
    "numerical_cols = X_train.select_dtypes(include=['int64', 'float64']).columns\n",
    "categorical_cols = X_train.select_dtypes(include=['object', 'category']).columns"
   ]
  },
  {
   "cell_type": "code",
   "execution_count": null,
   "id": "beb01a59-4a83-4d39-9423-c4cb2843c155",
   "metadata": {},
   "outputs": [],
   "source": [
    "numerical_pipeline = Pipeline(steps=[\n",
    "    ('scaler', StandardScaler())\n",
    "])\n",
    "\n",
    "categorical_pipeline = Pipeline(steps=[\n",
    "    ('encoder', OneHotEncoder(handle_unknown='ignore'))\n",
    "])\n",
    "\n",
    "preprocessor = ColumnTransformer(transformers=[\n",
    "    ('num', numerical_pipeline, numerical_cols),\n",
    "    ('cat', categorical_pipeline, categorical_cols)\n",
    "])"
   ]
  },
  {
   "cell_type": "code",
   "execution_count": null,
   "id": "b57a9976-07e6-4947-85cc-bf354f91e5cd",
   "metadata": {},
   "outputs": [],
   "source": [
    "X_train_transform = preprocessor.fit_transform(X_train)\n",
    "X_test_transform = preprocessor.transform(X_test)"
   ]
  },
  {
   "cell_type": "code",
   "execution_count": null,
   "id": "9244e93d-d2c5-4935-a76d-3ccd44fbeea2",
   "metadata": {},
   "outputs": [],
   "source": [
    "param_grid = {\n",
    "    'C': [0.1, 1],\n",
    "    'gamma': [1, 0.1],\n",
    "    'kernel': ['rbf', 'poly', 'sigmoid'] \n",
    "}"
   ]
  },
  {
   "cell_type": "code",
   "execution_count": null,
   "id": "9a87e7a0-e2e6-4ea5-b470-e295dac7d8bc",
   "metadata": {},
   "outputs": [],
   "source": [
    "model = SVC(kernel='rbf', C=1, gamma=0.01)\n",
    "model.fit(X_train_transform, y_train)"
   ]
  },
  {
   "cell_type": "code",
   "execution_count": null,
   "id": "671166cd-2372-45df-a46c-a12d9673b3b9",
   "metadata": {},
   "outputs": [],
   "source": [
    "y_pred = model.predict(X_test_transform)"
   ]
  },
  {
   "cell_type": "code",
   "execution_count": null,
   "id": "806f11f8-022b-472c-9642-e7f41a9e5409",
   "metadata": {},
   "outputs": [],
   "source": [
    "result_df = pd.DataFrame({\n",
    "    'id': label,\n",
    "    'Exited': y_pred\n",
    "})\n",
    "\n",
    "result_df.to_csv('predictions.csv', index=False)"
   ]
  },
  {
   "cell_type": "code",
   "execution_count": null,
   "id": "db9166af-b672-46ec-a077-1bcd2ff501fe",
   "metadata": {},
   "outputs": [],
   "source": []
  }
 ],
 "metadata": {
  "kernelspec": {
   "display_name": "Python 3 (ipykernel)",
   "language": "python",
   "name": "python3"
  },
  "language_info": {
   "codemirror_mode": {
    "name": "ipython",
    "version": 3
   },
   "file_extension": ".py",
   "mimetype": "text/x-python",
   "name": "python",
   "nbconvert_exporter": "python",
   "pygments_lexer": "ipython3",
   "version": "3.10.13"
  }
 },
 "nbformat": 4,
 "nbformat_minor": 5
}
